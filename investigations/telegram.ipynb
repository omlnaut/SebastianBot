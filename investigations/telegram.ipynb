{
 "cells": [
  {
   "cell_type": "code",
   "execution_count": 1,
   "id": "3852cf3d",
   "metadata": {},
   "outputs": [],
   "source": [
    "from common import add_workspace_to_path\n",
    "\n",
    "add_workspace_to_path()"
   ]
  },
  {
   "cell_type": "code",
   "execution_count": 2,
   "id": "6f3f908b",
   "metadata": {},
   "outputs": [],
   "source": [
    "from shared.secrets import get_secret"
   ]
  },
  {
   "cell_type": "code",
   "execution_count": null,
   "id": "9b7683c6",
   "metadata": {},
   "outputs": [],
   "source": []
  }
 ],
 "metadata": {
  "kernelspec": {
   "display_name": "Python 3",
   "language": "python",
   "name": "python3"
  },
  "language_info": {
   "codemirror_mode": {
    "name": "ipython",
    "version": 3
   },
   "file_extension": ".py",
   "mimetype": "text/x-python",
   "name": "python",
   "nbconvert_exporter": "python",
   "pygments_lexer": "ipython3",
   "version": "3.12.11"
  }
 },
 "nbformat": 4,
 "nbformat_minor": 5
}
