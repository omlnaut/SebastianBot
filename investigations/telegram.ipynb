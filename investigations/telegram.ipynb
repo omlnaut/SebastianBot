{
 "cells": [
  {
   "cell_type": "code",
   "execution_count": 17,
   "id": "a18539d7",
   "metadata": {},
   "outputs": [
    {
     "name": "stdout",
     "output_type": "stream",
     "text": [
      "The autoreload extension is already loaded. To reload it, use:\n",
      "  %reload_ext autoreload\n"
     ]
    }
   ],
   "source": [
    "%load_ext autoreload\n",
    "%autoreload 2\n",
    "\n",
    "from common import add_workspace_to_path\n",
    "\n",
    "add_workspace_to_path()"
   ]
  },
  {
   "cell_type": "code",
   "execution_count": 18,
   "id": "6f3f908b",
   "metadata": {},
   "outputs": [],
   "source": [
    "from shared.secrets import get_secret, SecretKeys\n",
    "from infrastructure.telegram.TelegramService import send_telegram_message\n",
    "from infrastructure.telegram.TelegramSecret import TelegramConfig, TelegramChat, TelegramToken"
   ]
  },
  {
   "cell_type": "code",
   "execution_count": 19,
   "id": "9b7683c6",
   "metadata": {},
   "outputs": [],
   "source": [
    "config = get_secret(SecretKeys.TelegramSebastianToken, TelegramConfig)"
   ]
  },
  {
   "cell_type": "code",
   "execution_count": 20,
   "id": "d47be195",
   "metadata": {},
   "outputs": [],
   "source": [
    "await send_telegram_message(config.tokens[TelegramToken.Sebastian].token, config.chats[TelegramChat.MainChat].id, \"testi\")"
   ]
  },
  {
   "cell_type": "code",
   "execution_count": null,
   "id": "9cc208c6",
   "metadata": {},
   "outputs": [],
   "source": []
  }
 ],
 "metadata": {
  "kernelspec": {
   "display_name": "Python 3",
   "language": "python",
   "name": "python3"
  },
  "language_info": {
   "codemirror_mode": {
    "name": "ipython",
    "version": 3
   },
   "file_extension": ".py",
   "mimetype": "text/x-python",
   "name": "python",
   "nbconvert_exporter": "python",
   "pygments_lexer": "ipython3",
   "version": "3.12.11"
  }
 },
 "nbformat": 4,
 "nbformat_minor": 5
}
