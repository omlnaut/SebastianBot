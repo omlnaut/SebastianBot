{
 "cells": [
  {
   "cell_type": "code",
   "execution_count": 1,
   "id": "a18539d7",
   "metadata": {},
   "outputs": [],
   "source": [
    "%load_ext autoreload\n",
    "%autoreload 2"
   ]
  },
  {
   "cell_type": "code",
   "execution_count": 2,
   "id": "3852cf3d",
   "metadata": {},
   "outputs": [],
   "source": [
    "from common import add_workspace_to_path\n",
    "\n",
    "add_workspace_to_path()"
   ]
  },
  {
   "cell_type": "code",
   "execution_count": 3,
   "id": "6f3f908b",
   "metadata": {},
   "outputs": [],
   "source": [
    "from shared.secrets import get_secret, SecretKeys"
   ]
  },
  {
   "cell_type": "code",
   "execution_count": 4,
   "id": "a5776af7",
   "metadata": {},
   "outputs": [],
   "source": [
    "\n",
    "from pathlib import Path\n",
    "\n",
    "\n",
    "example = Path(\"/workspaces/SebastianBot/infrastructure/telegram/telegram.json\").read_text()"
   ]
  },
  {
   "cell_type": "code",
   "execution_count": 5,
   "id": "a3a8e293",
   "metadata": {},
   "outputs": [
    {
     "data": {
      "text/plain": [
       "TelegramConfig(chats={'testi': Chat(id=1)}, tokens={'name': Token(token='asdf')})"
      ]
     },
     "execution_count": 5,
     "metadata": {},
     "output_type": "execute_result"
    }
   ],
   "source": [
    "from infrastructure.telegram.TelegramSecret import TelegramConfig\n",
    "\n",
    "TelegramConfig.model_validate_json(example)"
   ]
  },
  {
   "cell_type": "code",
   "execution_count": 9,
   "id": "9b7683c6",
   "metadata": {},
   "outputs": [],
   "source": [
    "token = get_secret(SecretKeys.TelegramSebastianToken, TelegramConfig)"
   ]
  },
  {
   "cell_type": "code",
   "execution_count": 9,
   "id": "ab7f2a3e",
   "metadata": {},
   "outputs": [],
   "source": [
    "from infrastructure.telegram.telegram_service import send_telegram_message"
   ]
  },
  {
   "cell_type": "code",
   "execution_count": null,
   "id": "d47be195",
   "metadata": {},
   "outputs": [],
   "source": [
    "# await send_telegram_message(token, 1, \"testi\")"
   ]
  },
  {
   "cell_type": "code",
   "execution_count": 21,
   "id": "fce326fc",
   "metadata": {},
   "outputs": [
    {
     "data": {
      "text/plain": [
       "'{\\n    \"chats\":{\"mainChat\": {\"id\":\"1\"}},\\n    \"tokens\":{\"Sebastian\": {\"token\":\"1\"}}\\n}'"
      ]
     },
     "execution_count": 21,
     "metadata": {},
     "output_type": "execute_result"
    }
   ],
   "source": [
    "from pathlib import Path\n",
    "\n",
    "\n",
    "test_secret = Path(\"testi.secret\").read_text()\n",
    "test_secret"
   ]
  },
  {
   "cell_type": "code",
   "execution_count": 23,
   "id": "35d65bb1",
   "metadata": {},
   "outputs": [],
   "source": [
    "t = TelegramConfig.model_validate_json(test_secret)"
   ]
  },
  {
   "cell_type": "code",
   "execution_count": 25,
   "id": "b8e0ef49",
   "metadata": {},
   "outputs": [
    {
     "data": {
      "text/plain": [
       "'1'"
      ]
     },
     "execution_count": 25,
     "metadata": {},
     "output_type": "execute_result"
    }
   ],
   "source": [
    "t.tokens[\"Sebastian\"].token"
   ]
  },
  {
   "cell_type": "code",
   "execution_count": null,
   "id": "9cc208c6",
   "metadata": {},
   "outputs": [],
   "source": []
  }
 ],
 "metadata": {
  "kernelspec": {
   "display_name": "Python 3",
   "language": "python",
   "name": "python3"
  },
  "language_info": {
   "codemirror_mode": {
    "name": "ipython",
    "version": 3
   },
   "file_extension": ".py",
   "mimetype": "text/x-python",
   "name": "python",
   "nbconvert_exporter": "python",
   "pygments_lexer": "ipython3",
   "version": "3.12.11"
  }
 },
 "nbformat": 4,
 "nbformat_minor": 5
}
