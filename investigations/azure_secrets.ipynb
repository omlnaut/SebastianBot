{
 "cells": [
  {
   "cell_type": "code",
   "execution_count": 14,
   "id": "b63f5bd6",
   "metadata": {},
   "outputs": [],
   "source": [
    "from common import add_workspace_to_path\n",
    "add_workspace_to_path()"
   ]
  },
  {
   "cell_type": "code",
   "execution_count": 15,
   "id": "90d880c0",
   "metadata": {},
   "outputs": [],
   "source": [
    "from shared import get_secret"
   ]
  },
  {
   "cell_type": "code",
   "execution_count": 16,
   "id": "9d450549",
   "metadata": {},
   "outputs": [
    {
     "data": {
      "text/plain": [
       "'Test123'"
      ]
     },
     "execution_count": 16,
     "metadata": {},
     "output_type": "execute_result"
    }
   ],
   "source": [
    "get_secret(\"Testi\")"
   ]
  },
  {
   "cell_type": "code",
   "execution_count": null,
   "id": "81e43ed6",
   "metadata": {},
   "outputs": [],
   "source": []
  }
 ],
 "metadata": {
  "kernelspec": {
   "display_name": "Python 3",
   "language": "python",
   "name": "python3"
  },
  "language_info": {
   "codemirror_mode": {
    "name": "ipython",
    "version": 3
   },
   "file_extension": ".py",
   "mimetype": "text/x-python",
   "name": "python",
   "nbconvert_exporter": "python",
   "pygments_lexer": "ipython3",
   "version": "3.12.11"
  }
 },
 "nbformat": 4,
 "nbformat_minor": 5
}
